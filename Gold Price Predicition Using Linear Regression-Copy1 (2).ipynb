{
 "cells": [
  {
   "cell_type": "code",
   "execution_count": 1,
   "id": "c7d6f585",
   "metadata": {},
   "outputs": [],
   "source": [
    "import numpy as np \n",
    "import pandas as pd\n",
    "\n",
    "import matplotlib.pyplot as plt\n",
    "\n",
    "from sklearn.model_selection import train_test_split \n",
    "\n",
    "from sklearn.ensemble import RandomForestRegressor \n",
    "\n",
    "from sklearn import metrics"
   ]
  },
  {
   "cell_type": "code",
   "execution_count": 2,
   "id": "1211a4a4",
   "metadata": {},
   "outputs": [],
   "source": [
    "# loading the csv data to a Pandas DataFrame\n",
    "gold_data = pd.read_csv(r'C:\\Users\\Sravanth Kumar\\Downloads\\gld_price_data.csv')"
   ]
  },
  {
   "cell_type": "code",
   "execution_count": 3,
   "id": "8b7300c6",
   "metadata": {},
   "outputs": [
    {
     "data": {
      "text/html": [
       "<div>\n",
       "<style scoped>\n",
       "    .dataframe tbody tr th:only-of-type {\n",
       "        vertical-align: middle;\n",
       "    }\n",
       "\n",
       "    .dataframe tbody tr th {\n",
       "        vertical-align: top;\n",
       "    }\n",
       "\n",
       "    .dataframe thead th {\n",
       "        text-align: right;\n",
       "    }\n",
       "</style>\n",
       "<table border=\"1\" class=\"dataframe\">\n",
       "  <thead>\n",
       "    <tr style=\"text-align: right;\">\n",
       "      <th></th>\n",
       "      <th>Date</th>\n",
       "      <th>SPX</th>\n",
       "      <th>GLD</th>\n",
       "      <th>USO</th>\n",
       "      <th>SLV</th>\n",
       "      <th>EUR/USD</th>\n",
       "    </tr>\n",
       "  </thead>\n",
       "  <tbody>\n",
       "    <tr>\n",
       "      <th>0</th>\n",
       "      <td>01-02-2008</td>\n",
       "      <td>1447.160034</td>\n",
       "      <td>84.860001</td>\n",
       "      <td>78.470001</td>\n",
       "      <td>15.180</td>\n",
       "      <td>1.471692</td>\n",
       "    </tr>\n",
       "    <tr>\n",
       "      <th>1</th>\n",
       "      <td>01-03-2008</td>\n",
       "      <td>1447.160034</td>\n",
       "      <td>85.570000</td>\n",
       "      <td>78.370003</td>\n",
       "      <td>15.285</td>\n",
       "      <td>1.474491</td>\n",
       "    </tr>\n",
       "    <tr>\n",
       "      <th>2</th>\n",
       "      <td>01-04-2008</td>\n",
       "      <td>1411.630005</td>\n",
       "      <td>85.129997</td>\n",
       "      <td>77.309998</td>\n",
       "      <td>15.167</td>\n",
       "      <td>1.475492</td>\n",
       "    </tr>\n",
       "    <tr>\n",
       "      <th>3</th>\n",
       "      <td>01-07-2008</td>\n",
       "      <td>1416.180054</td>\n",
       "      <td>84.769997</td>\n",
       "      <td>75.500000</td>\n",
       "      <td>15.053</td>\n",
       "      <td>1.468299</td>\n",
       "    </tr>\n",
       "    <tr>\n",
       "      <th>4</th>\n",
       "      <td>01-08-2008</td>\n",
       "      <td>1390.189941</td>\n",
       "      <td>86.779999</td>\n",
       "      <td>76.059998</td>\n",
       "      <td>15.590</td>\n",
       "      <td>1.557099</td>\n",
       "    </tr>\n",
       "  </tbody>\n",
       "</table>\n",
       "</div>"
      ],
      "text/plain": [
       "         Date          SPX        GLD        USO     SLV   EUR/USD\n",
       "0  01-02-2008  1447.160034  84.860001  78.470001  15.180  1.471692\n",
       "1  01-03-2008  1447.160034  85.570000  78.370003  15.285  1.474491\n",
       "2  01-04-2008  1411.630005  85.129997  77.309998  15.167  1.475492\n",
       "3  01-07-2008  1416.180054  84.769997  75.500000  15.053  1.468299\n",
       "4  01-08-2008  1390.189941  86.779999  76.059998  15.590  1.557099"
      ]
     },
     "execution_count": 3,
     "metadata": {},
     "output_type": "execute_result"
    }
   ],
   "source": [
    "# print first 5 rows in the dataframe\n",
    "gold_data.head()"
   ]
  },
  {
   "cell_type": "code",
   "execution_count": 4,
   "id": "65be3b93",
   "metadata": {},
   "outputs": [
    {
     "data": {
      "text/html": [
       "<div>\n",
       "<style scoped>\n",
       "    .dataframe tbody tr th:only-of-type {\n",
       "        vertical-align: middle;\n",
       "    }\n",
       "\n",
       "    .dataframe tbody tr th {\n",
       "        vertical-align: top;\n",
       "    }\n",
       "\n",
       "    .dataframe thead th {\n",
       "        text-align: right;\n",
       "    }\n",
       "</style>\n",
       "<table border=\"1\" class=\"dataframe\">\n",
       "  <thead>\n",
       "    <tr style=\"text-align: right;\">\n",
       "      <th></th>\n",
       "      <th>Date</th>\n",
       "      <th>SPX</th>\n",
       "      <th>GLD</th>\n",
       "      <th>USO</th>\n",
       "      <th>SLV</th>\n",
       "      <th>EUR/USD</th>\n",
       "    </tr>\n",
       "  </thead>\n",
       "  <tbody>\n",
       "    <tr>\n",
       "      <th>2285</th>\n",
       "      <td>05-08-2018</td>\n",
       "      <td>2671.919922</td>\n",
       "      <td>124.589996</td>\n",
       "      <td>14.0600</td>\n",
       "      <td>15.5100</td>\n",
       "      <td>1.186789</td>\n",
       "    </tr>\n",
       "    <tr>\n",
       "      <th>2286</th>\n",
       "      <td>05-09-2018</td>\n",
       "      <td>2697.790039</td>\n",
       "      <td>124.330002</td>\n",
       "      <td>14.3700</td>\n",
       "      <td>15.5300</td>\n",
       "      <td>1.184722</td>\n",
       "    </tr>\n",
       "    <tr>\n",
       "      <th>2287</th>\n",
       "      <td>05-10-2018</td>\n",
       "      <td>2723.070068</td>\n",
       "      <td>125.180000</td>\n",
       "      <td>14.4100</td>\n",
       "      <td>15.7400</td>\n",
       "      <td>1.191753</td>\n",
       "    </tr>\n",
       "    <tr>\n",
       "      <th>2288</th>\n",
       "      <td>5/14/2018</td>\n",
       "      <td>2730.129883</td>\n",
       "      <td>124.489998</td>\n",
       "      <td>14.3800</td>\n",
       "      <td>15.5600</td>\n",
       "      <td>1.193118</td>\n",
       "    </tr>\n",
       "    <tr>\n",
       "      <th>2289</th>\n",
       "      <td>5/16/2018</td>\n",
       "      <td>2725.780029</td>\n",
       "      <td>122.543800</td>\n",
       "      <td>14.4058</td>\n",
       "      <td>15.4542</td>\n",
       "      <td>1.182033</td>\n",
       "    </tr>\n",
       "  </tbody>\n",
       "</table>\n",
       "</div>"
      ],
      "text/plain": [
       "            Date          SPX         GLD      USO      SLV   EUR/USD\n",
       "2285  05-08-2018  2671.919922  124.589996  14.0600  15.5100  1.186789\n",
       "2286  05-09-2018  2697.790039  124.330002  14.3700  15.5300  1.184722\n",
       "2287  05-10-2018  2723.070068  125.180000  14.4100  15.7400  1.191753\n",
       "2288   5/14/2018  2730.129883  124.489998  14.3800  15.5600  1.193118\n",
       "2289   5/16/2018  2725.780029  122.543800  14.4058  15.4542  1.182033"
      ]
     },
     "execution_count": 4,
     "metadata": {},
     "output_type": "execute_result"
    }
   ],
   "source": [
    "# print last 5 rows of the dataframe\n",
    "gold_data.tail()"
   ]
  },
  {
   "cell_type": "code",
   "execution_count": 5,
   "id": "743795c2",
   "metadata": {},
   "outputs": [
    {
     "data": {
      "text/plain": [
       "(2290, 6)"
      ]
     },
     "execution_count": 5,
     "metadata": {},
     "output_type": "execute_result"
    }
   ],
   "source": [
    " #number of rows and columns\n",
    "gold_data.shape\n",
    "\n",
    "# shape is used to find the dimension of the data i.e., how many rows and columns we have in our data set\n",
    "# as the output tells we have 2290 rows and 6 columns of data"
   ]
  },
  {
   "cell_type": "code",
   "execution_count": 6,
   "id": "4410dbbd",
   "metadata": {},
   "outputs": [
    {
     "name": "stdout",
     "output_type": "stream",
     "text": [
      "<class 'pandas.core.frame.DataFrame'>\n",
      "RangeIndex: 2290 entries, 0 to 2289\n",
      "Data columns (total 6 columns):\n",
      " #   Column   Non-Null Count  Dtype  \n",
      "---  ------   --------------  -----  \n",
      " 0   Date     2290 non-null   object \n",
      " 1   SPX      2290 non-null   float64\n",
      " 2   GLD      2290 non-null   float64\n",
      " 3   USO      2290 non-null   float64\n",
      " 4   SLV      2290 non-null   float64\n",
      " 5   EUR/USD  2290 non-null   float64\n",
      "dtypes: float64(5), object(1)\n",
      "memory usage: 107.5+ KB\n"
     ]
    }
   ],
   "source": [
    "gold_data.info()"
   ]
  },
  {
   "cell_type": "code",
   "execution_count": 7,
   "id": "236a14d4",
   "metadata": {},
   "outputs": [
    {
     "name": "stdout",
     "output_type": "stream",
     "text": [
      "       Date    SPX    GLD    USO    SLV  EUR/USD\n",
      "0     False  False  False  False  False    False\n",
      "1     False  False  False  False  False    False\n",
      "2     False  False  False  False  False    False\n",
      "3     False  False  False  False  False    False\n",
      "4     False  False  False  False  False    False\n",
      "...     ...    ...    ...    ...    ...      ...\n",
      "2285  False  False  False  False  False    False\n",
      "2286  False  False  False  False  False    False\n",
      "2287  False  False  False  False  False    False\n",
      "2288  False  False  False  False  False    False\n",
      "2289  False  False  False  False  False    False\n",
      "\n",
      "[2290 rows x 6 columns]\n",
      "Getting count of null values: \n",
      " Date       0\n",
      "SPX        0\n",
      "GLD        0\n",
      "USO        0\n",
      "SLV        0\n",
      "EUR/USD    0\n",
      "dtype: int64\n"
     ]
    }
   ],
   "source": [
    "# checking the number of missing values\n",
    "print(gold_data.isnull())\n",
    "\n",
    "# Here we are checking if our data contains null values or not\n",
    "# and we do that using .isnull() function now this function returns True or False as output\n",
    "\n",
    "print('Getting count of null values: \\n',gold_data.isnull().sum())\n",
    "# in order to get the sum of missing values we in turn use .sum() function to get the total number of missing values\n",
    "# in this case we don't have any missing values"
   ]
  },
  {
   "cell_type": "code",
   "execution_count": 8,
   "id": "fac583bc",
   "metadata": {},
   "outputs": [
    {
     "data": {
      "text/html": [
       "<div>\n",
       "<style scoped>\n",
       "    .dataframe tbody tr th:only-of-type {\n",
       "        vertical-align: middle;\n",
       "    }\n",
       "\n",
       "    .dataframe tbody tr th {\n",
       "        vertical-align: top;\n",
       "    }\n",
       "\n",
       "    .dataframe thead th {\n",
       "        text-align: right;\n",
       "    }\n",
       "</style>\n",
       "<table border=\"1\" class=\"dataframe\">\n",
       "  <thead>\n",
       "    <tr style=\"text-align: right;\">\n",
       "      <th></th>\n",
       "      <th>SPX</th>\n",
       "      <th>GLD</th>\n",
       "      <th>USO</th>\n",
       "      <th>SLV</th>\n",
       "      <th>EUR/USD</th>\n",
       "    </tr>\n",
       "  </thead>\n",
       "  <tbody>\n",
       "    <tr>\n",
       "      <th>count</th>\n",
       "      <td>2290.000000</td>\n",
       "      <td>2290.000000</td>\n",
       "      <td>2290.000000</td>\n",
       "      <td>2290.000000</td>\n",
       "      <td>2290.000000</td>\n",
       "    </tr>\n",
       "    <tr>\n",
       "      <th>mean</th>\n",
       "      <td>1654.315776</td>\n",
       "      <td>122.732875</td>\n",
       "      <td>31.842221</td>\n",
       "      <td>20.084997</td>\n",
       "      <td>1.283653</td>\n",
       "    </tr>\n",
       "    <tr>\n",
       "      <th>std</th>\n",
       "      <td>519.111540</td>\n",
       "      <td>23.283346</td>\n",
       "      <td>19.523517</td>\n",
       "      <td>7.092566</td>\n",
       "      <td>0.131547</td>\n",
       "    </tr>\n",
       "    <tr>\n",
       "      <th>min</th>\n",
       "      <td>676.530029</td>\n",
       "      <td>70.000000</td>\n",
       "      <td>7.960000</td>\n",
       "      <td>8.850000</td>\n",
       "      <td>1.039047</td>\n",
       "    </tr>\n",
       "    <tr>\n",
       "      <th>25%</th>\n",
       "      <td>1239.874969</td>\n",
       "      <td>109.725000</td>\n",
       "      <td>14.380000</td>\n",
       "      <td>15.570000</td>\n",
       "      <td>1.171313</td>\n",
       "    </tr>\n",
       "    <tr>\n",
       "      <th>50%</th>\n",
       "      <td>1551.434998</td>\n",
       "      <td>120.580002</td>\n",
       "      <td>33.869999</td>\n",
       "      <td>17.268500</td>\n",
       "      <td>1.303297</td>\n",
       "    </tr>\n",
       "    <tr>\n",
       "      <th>75%</th>\n",
       "      <td>2073.010070</td>\n",
       "      <td>132.840004</td>\n",
       "      <td>37.827501</td>\n",
       "      <td>22.882500</td>\n",
       "      <td>1.369971</td>\n",
       "    </tr>\n",
       "    <tr>\n",
       "      <th>max</th>\n",
       "      <td>2872.870117</td>\n",
       "      <td>184.589996</td>\n",
       "      <td>117.480003</td>\n",
       "      <td>47.259998</td>\n",
       "      <td>1.598798</td>\n",
       "    </tr>\n",
       "  </tbody>\n",
       "</table>\n",
       "</div>"
      ],
      "text/plain": [
       "               SPX          GLD          USO          SLV      EUR/USD\n",
       "count  2290.000000  2290.000000  2290.000000  2290.000000  2290.000000\n",
       "mean   1654.315776   122.732875    31.842221    20.084997     1.283653\n",
       "std     519.111540    23.283346    19.523517     7.092566     0.131547\n",
       "min     676.530029    70.000000     7.960000     8.850000     1.039047\n",
       "25%    1239.874969   109.725000    14.380000    15.570000     1.171313\n",
       "50%    1551.434998   120.580002    33.869999    17.268500     1.303297\n",
       "75%    2073.010070   132.840004    37.827501    22.882500     1.369971\n",
       "max    2872.870117   184.589996   117.480003    47.259998     1.598798"
      ]
     },
     "execution_count": 8,
     "metadata": {},
     "output_type": "execute_result"
    }
   ],
   "source": [
    "# getting the statistical measures of the data\n",
    "gold_data.describe()\n",
    "\n",
    "# describe function gives us the descriptive summary of the data\n",
    "# such as, what is the total count of data \n",
    "# as we know we have 2290 rows in total hence the first row tells us that\n",
    "# next what is the respective mean, standard devation, min value of that particular column, max value etc etc\n",
    "# You will get a idea of this if ou do it manually, in case you have any doubts \n",
    "# Mai toh hu he  :P"
   ]
  },
  {
   "cell_type": "code",
   "execution_count": 9,
   "id": "7b41dec0",
   "metadata": {},
   "outputs": [],
   "source": [
    "correlation = gold_data.corr()"
   ]
  },
  {
   "cell_type": "code",
   "execution_count": 10,
   "id": "c2b95c60",
   "metadata": {},
   "outputs": [],
   "source": [
    "import matplotlib.pyplot as plt\n",
    "plt.show()"
   ]
  },
  {
   "cell_type": "code",
   "execution_count": 11,
   "id": "e843d962",
   "metadata": {},
   "outputs": [],
   "source": [
    "import matplotlib as mpl\n",
    "import matplotlib.pyplot as plt\n",
    "\n",
    "import seaborn as sns\n"
   ]
  },
  {
   "cell_type": "code",
   "execution_count": 12,
   "id": "e6b0b096",
   "metadata": {},
   "outputs": [
    {
     "data": {
      "text/plain": [
       "<AxesSubplot:>"
      ]
     },
     "execution_count": 12,
     "metadata": {},
     "output_type": "execute_result"
    },
    {
     "data": {
      "image/png": "[encoded data removed]",
      "text/plain": [
       "<Figure size 576x576 with 2 Axes>"
      ]
     },
     "metadata": {
      "needs_background": "light"
     },
     "output_type": "display_data"
    }
   ],
   "source": [
    "# constructing a heatmap to understand the correlatiom\n",
    "plt.figure(figsize = (8,8))\n",
    "sns.heatmap(correlation, cbar=True, square=True, fmt='.1f',annot=True, annot_kws={'size':8}, cmap='Blues')"
   ]
  },
  {
   "cell_type": "code",
   "execution_count": 13,
   "id": "324f5087",
   "metadata": {},
   "outputs": [
    {
     "name": "stdout",
     "output_type": "stream",
     "text": [
      "SPX        0.049345\n",
      "GLD        1.000000\n",
      "USO       -0.186360\n",
      "SLV        0.866632\n",
      "EUR/USD   -0.024375\n",
      "Name: GLD, dtype: float64\n"
     ]
    }
   ],
   "source": [
    "# correlation values of GLD\n",
    "print(correlation['GLD'])\n",
    "\n",
    "# so from this we can infer that Gold and silver are positively correlated"
   ]
  },
  {
   "cell_type": "code",
   "execution_count": 14,
   "id": "6e65bf75",
   "metadata": {},
   "outputs": [
    {
     "name": "stderr",
     "output_type": "stream",
     "text": [
      "C:\\ProgramData\\Anaconda3\\lib\\site-packages\\seaborn\\distributions.py:2619: FutureWarning: `distplot` is a deprecated function and will be removed in a future version. Please adapt your code to use either `displot` (a figure-level function with similar flexibility) or `histplot` (an axes-level function for histograms).\n",
      "  warnings.warn(msg, FutureWarning)\n"
     ]
    },
    {
     "data": {
      "text/plain": [
       "<AxesSubplot:xlabel='GLD', ylabel='Density'>"
      ]
     },
     "execution_count": 14,
     "metadata": {},
     "output_type": "execute_result"
    },
    {
     "data": {
      "image/png": "[encoded data removed]",
      "text/plain": [
       "<Figure size 432x288 with 1 Axes>"
      ]
     },
     "metadata": {
      "needs_background": "light"
     },
     "output_type": "display_data"
    }
   ],
   "source": [
    "# checking the distribution of the GLD Price\n",
    "sns.distplot(gold_data['GLD'],color='green')"
   ]
  },
  {
   "cell_type": "code",
   "execution_count": 15,
   "id": "a93b244c",
   "metadata": {},
   "outputs": [],
   "source": [
    "X = gold_data.drop(['Date','GLD'],axis=1)\n",
    "Y = gold_data['GLD']"
   ]
  },
  {
   "cell_type": "code",
   "execution_count": 16,
   "id": "419b1323",
   "metadata": {},
   "outputs": [
    {
     "name": "stdout",
     "output_type": "stream",
     "text": [
      "              SPX        USO      SLV   EUR/USD\n",
      "0     1447.160034  78.470001  15.1800  1.471692\n",
      "1     1447.160034  78.370003  15.2850  1.474491\n",
      "2     1411.630005  77.309998  15.1670  1.475492\n",
      "3     1416.180054  75.500000  15.0530  1.468299\n",
      "4     1390.189941  76.059998  15.5900  1.557099\n",
      "...           ...        ...      ...       ...\n",
      "2285  2671.919922  14.060000  15.5100  1.186789\n",
      "2286  2697.790039  14.370000  15.5300  1.184722\n",
      "2287  2723.070068  14.410000  15.7400  1.191753\n",
      "2288  2730.129883  14.380000  15.5600  1.193118\n",
      "2289  2725.780029  14.405800  15.4542  1.182033\n",
      "\n",
      "[2290 rows x 4 columns]\n"
     ]
    }
   ],
   "source": [
    "print(X)"
   ]
  },
  {
   "cell_type": "code",
   "execution_count": 17,
   "id": "f295340b",
   "metadata": {},
   "outputs": [
    {
     "name": "stdout",
     "output_type": "stream",
     "text": [
      "0        84.860001\n",
      "1        85.570000\n",
      "2        85.129997\n",
      "3        84.769997\n",
      "4        86.779999\n",
      "           ...    \n",
      "2285    124.589996\n",
      "2286    124.330002\n",
      "2287    125.180000\n",
      "2288    124.489998\n",
      "2289    122.543800\n",
      "Name: GLD, Length: 2290, dtype: float64\n"
     ]
    }
   ],
   "source": [
    "print(Y)"
   ]
  },
  {
   "cell_type": "code",
   "execution_count": 18,
   "id": "047f8b30",
   "metadata": {},
   "outputs": [],
   "source": [
    "# Here we are dividing our total data (we call total data as population) into training and testing data\n",
    "# We use the train_test_split function to achieve this and test_size determines the % of testing data we are using from this total\n",
    "# here we are setting test_size as 0.3, which indicates 30% of the data is spilt into test data and \n",
    "# 70% of data is used in training the model\n",
    "X_train, X_test, Y_train, Y_test = train_test_split(X, Y, test_size = 0.3, random_state=2)"
   ]
  },
  {
   "cell_type": "code",
   "execution_count": 19,
   "id": "b683cd5b",
   "metadata": {},
   "outputs": [],
   "source": [
    "# Here we are defining a RandomForestRegressor and n_estimators is the total number of decision tress we are using\n",
    "# here since our data is less we are using 100 decision trees to train our model on\n",
    "regressor = RandomForestRegressor(n_estimators=100)"
   ]
  },
  {
   "cell_type": "code",
   "execution_count": 20,
   "id": "4e3b399b",
   "metadata": {},
   "outputs": [
    {
     "data": {
      "text/plain": [
       "RandomForestRegressor()"
      ]
     },
     "execution_count": 20,
     "metadata": {},
     "output_type": "execute_result"
    }
   ],
   "source": [
    "# training the model\n",
    "regressor.fit(X_train,Y_train)"
   ]
  },
  {
   "cell_type": "code",
   "execution_count": 21,
   "id": "13acb561",
   "metadata": {},
   "outputs": [],
   "source": [
    "# prediction on Test Data\n",
    "test_data_prediction = regressor.predict(X_test)"
   ]
  },
  {
   "cell_type": "code",
   "execution_count": 22,
   "id": "3256b06b",
   "metadata": {
    "scrolled": false
   },
   "outputs": [
    {
     "name": "stdout",
     "output_type": "stream",
     "text": [
      "[168.75359928  81.87790007 116.12099996 127.45070119 120.44510204\n",
      " 154.54369823 150.32580068 126.1326001  118.32499872 126.03540091\n",
      " 116.05120108 172.36960113 142.41459906 167.68129847 115.09870036\n",
      " 117.68260061 138.49270295 170.83610143 159.81520302 160.32569923\n",
      " 155.25410045 125.50089983 174.92080043 157.10600298 125.05500122\n",
      "  93.70619922  77.13669964 120.34049976 119.2119003  167.40130108\n",
      "  88.37229915 125.27190148  90.83150063 117.94249957 121.18129921\n",
      " 136.85510108 115.47140146 116.80480089 148.0603997  107.04390091\n",
      " 104.05840213  87.24739772 126.53420054 117.87069932 153.61769903\n",
      " 119.83730008 108.12890084 108.34569842  93.1694996  127.14419787\n",
      "  74.95640025 113.72249947 121.14060002 111.12809891 118.85989884\n",
      " 120.49419975 158.97129998 167.29720111 146.64169628  86.10759985\n",
      "  94.30099992  86.77309886  90.75440028 118.78410114 126.44940026\n",
      " 127.72629986 170.26900005 122.19799924 117.485599    99.42939969\n",
      " 168.28960073 143.07059821 132.13240258 121.3093017  121.1841998\n",
      " 119.80510094 114.46860167 118.32080067 107.21860092 127.9118008\n",
      " 113.74919992 107.5030995  117.07060067 119.72599889  89.18220058\n",
      "  88.1285985  145.43270114 127.44770043 113.05630045 109.95009824\n",
      " 108.19909903  77.57989875 168.32050095 114.48749937 121.81299942\n",
      " 127.87700203 154.66899925  91.02659909 133.98510192 159.58400347\n",
      " 123.67670065 125.34480061 131.16730146 114.81830095 119.88620022\n",
      "  92.14889976 110.24819874 167.96609933 155.11920097 114.74250045\n",
      " 106.54010099  79.47999941 113.46560044 125.98350046 107.08509936\n",
      " 119.33880072 155.5290034  159.47269886 119.24859981 135.08760324\n",
      " 101.4819997  117.44059793 119.39290029 113.00200114 102.8257993\n",
      " 160.05509783  99.37030011 149.75480031 125.49950099 169.48599908\n",
      " 125.77769886 127.1268993  127.53400222 113.91869906 113.78900113\n",
      " 123.97049923 102.54819899  89.28199954 124.28559952 101.40719906\n",
      " 107.20469909 113.46610102 117.39790118  99.43699944 121.94059978\n",
      " 162.56319935  87.35659838 106.87189984 117.09590127 127.76980067\n",
      " 123.79170068  80.98449934 120.13200067 155.36119851  87.8261991\n",
      " 110.19529936 119.31189897 173.10649867 102.99569887 105.89850018\n",
      " 122.45040037 155.59819813  87.86639841  93.17700014 112.84270036\n",
      " 177.22219975 113.91149975 119.25270009  95.72950115 125.49079974\n",
      " 166.14540064 114.77540078 116.82440139  88.18009848 148.85889965\n",
      " 120.44169933  89.31859965 112.74420034 116.69929997 118.94430131\n",
      "  88.08139916  94.35459967 116.90579936 118.99220047 120.56080028\n",
      " 126.69819881 121.77519931 152.38059982 164.87450178 118.48189957\n",
      " 120.42960105 149.63039992 117.6931985  173.35169885 105.11989959\n",
      " 105.20119926 149.53410017 113.45330098 124.69040189 148.56150196\n",
      " 119.76140122 115.39710032 112.6829004  113.39920262 143.56860121\n",
      " 117.743598   102.93890039 115.89920132 102.73880096  99.36830002\n",
      " 117.27970036  90.43630018  91.39950044 153.1651005  102.71089938\n",
      " 154.53650095 114.43350209 138.16950131  90.00799784 115.61049901\n",
      " 113.05840086 122.23780087 121.60029978 165.67920161  92.89059878\n",
      " 135.5901021  121.40019912 120.76390082 104.89469988 142.90290231\n",
      " 122.84739941 116.71140054 113.71490103 127.24779786 122.4290995\n",
      " 125.75129937 121.30400024  86.85489936 132.27510189 143.12870242\n",
      "  93.02209938 159.36920012 159.14290474 125.79080033 164.32109938\n",
      " 109.14300004 109.83110085 103.70449836  93.89910178 127.09460168\n",
      " 107.17119972 161.24980024 121.96959952 131.70860005 131.27630141\n",
      " 160.25919905  89.89179774 172.32520211 128.10839962 126.38419908\n",
      "  86.74439907 124.48209949 151.23369756  89.68700019 107.0012997\n",
      " 108.79669948  84.19379925 136.0141007  154.58269995 140.00010399\n",
      "  74.82329987 151.38859966 125.9981012  126.73140006 127.41499905\n",
      " 108.56509933 155.77410083 114.39830094 116.97190164 124.45089923\n",
      " 153.82130125 121.00580013 156.24079978  92.84569984 125.62330077\n",
      " 125.00179973  87.521599    91.83139914 126.38879952 127.32710245\n",
      " 113.36810122 117.18169717 120.89980027 127.31669818 119.81210109\n",
      " 136.59930073  93.80709881 120.18470093 113.12560104  94.32679947\n",
      " 108.77919937  86.66489948 109.43179922  89.60019959  91.4525005\n",
      " 132.17790271 162.32080092  89.80829908 119.32380058 133.39410204\n",
      " 123.46969977 127.52729977 102.56529889  89.06679902 131.72700065\n",
      " 120.68010097 108.34120009 168.46410133 115.39550116  86.48529883\n",
      " 118.9807006   90.81479986 162.32580027 116.28050026 121.36149985\n",
      " 160.31729838 118.72569992 112.9049992  108.39479856 126.64549986\n",
      "  75.96460041 102.98589962 126.96920192 121.52679953  92.79419921\n",
      " 131.31190116 118.02300006 115.92999992 155.12100174 159.10120134\n",
      " 110.37739949 157.00579771 119.35050113 160.71200107 118.54230064\n",
      " 157.76249993 115.03020004 116.46230012 151.06249988 114.5928007\n",
      " 125.59289828 166.08019795 117.45939975 125.01659935 153.85320251\n",
      " 153.46580208 132.01900061 114.67310046 121.27910177 124.22450044\n",
      "  90.20979947 122.85680034 154.57480177 111.91260041 106.76329985\n",
      " 162.09920139 118.60599953 165.85990016 134.0755008  115.09489916\n",
      " 153.01439889 169.49850277 115.37639994 113.91640093 157.295199\n",
      "  85.40599833 127.2514006  128.004301   128.81199981 124.38870049\n",
      " 123.47390009  90.45140081 153.00990117  96.93469992 137.62139984\n",
      "  88.98219905 107.4906996  115.08530068 113.17900139 123.92659978\n",
      "  91.42599869 124.96250074 162.55829972 119.8850989  165.13480099\n",
      " 126.51999865 112.31860035 127.43479941  94.60170157  90.83929977\n",
      " 102.14659903 120.7550999   83.20849938 126.3576997  160.77550488\n",
      " 117.45300098 118.11759902 120.42300008 122.56709957 120.10960094\n",
      " 121.10420047 118.59499971 107.01159946 147.53539833 126.27589866\n",
      " 115.59530094  73.5074     127.66530019 155.81530114 121.41590006\n",
      " 125.44449997  88.72409941 102.88049825 124.63990014 120.35650026\n",
      "  73.21370111 151.23650182 121.13900027 105.06159948  86.49319794\n",
      " 115.14279912 172.09979726 119.74640021 160.15519825 113.19859945\n",
      " 121.16480018 118.80280078  96.05150002 119.16010007 126.01810049\n",
      " 118.62369957  96.22850165 154.34300173 121.99969999 146.56950075\n",
      " 159.74010306 113.83480047 121.83480032 150.92289879 126.82440037\n",
      " 165.73749971 135.30770064 120.21109892 167.09209848 108.15769972\n",
      " 121.30700046 140.07080157 106.50619917 110.04369989 113.32370059\n",
      "  90.79699889 125.8113002  119.77980099  93.89420166 152.07510051\n",
      " 116.76430029  80.89970003 121.61550013 102.68160144 127.89470018\n",
      " 123.76679874 119.01470039 120.49490044 120.836      131.83220161\n",
      " 117.17599843 117.61819825 115.76499926 104.76850017 153.07230076\n",
      " 110.85059753 125.87270008  82.57039965 179.59479846  93.1408002\n",
      " 167.42180081 105.32660023 171.7000983  155.79779926 132.53130196\n",
      " 120.672199   123.82269872 144.83320041 125.05449914 113.0736012\n",
      " 125.43960109 121.67189986 138.12270122  76.13239968  92.70049978\n",
      " 114.00979866 121.11859879 127.30989932 121.99120056 126.16660088\n",
      " 122.15350023 119.41020068 104.11329929 118.2189992   85.04989968\n",
      "  92.74100058 121.37330001 118.49879954  92.39620101 125.43440063\n",
      "  97.37219851 104.28570006  89.75589945 148.18900107 108.7666998\n",
      " 120.58280108  91.80650113 118.70039943 128.2421982  111.92489963\n",
      " 155.67110172 150.97900231 108.62770146  96.22089948 118.0197\n",
      " 125.21150171  80.61119927 116.37710116  92.95399956 141.12740201\n",
      " 108.18519954 106.50410131  88.27119944 117.46489974 110.4955985\n",
      " 121.87030035 136.05820117 115.80220077 119.55860062 156.63189994\n",
      " 106.94020175  96.45700113 136.0215006  128.91390201 122.96200024\n",
      " 119.87590124 115.90030033 103.6735014  118.79309974 120.99440105\n",
      " 121.70040016 156.16210073  87.33129778 164.02710108 121.69519939\n",
      " 118.98810042 157.48000253 157.8398006  142.89349811 114.86149987\n",
      " 109.26610064 126.46929887 150.34710147  94.12130099 115.35640029\n",
      " 122.12629985 121.73319921  87.24849833 130.36590064 130.59630317\n",
      " 122.41559933 113.17220113 109.24499957 154.2725016  111.78130009\n",
      " 113.04920034 119.29599964 114.27810137 117.62530013 124.2978999\n",
      " 126.01939943 135.39959851 118.16440054  91.89599838 119.03910037\n",
      " 118.88120166  87.34159832 119.32149941 116.82380151 117.43309916\n",
      " 117.27969981 160.30990032 116.52040077  86.09800094 108.1672991\n",
      " 123.90439986 154.21409999 117.73680062 121.01280056  86.05550081\n",
      " 127.55060065 144.83770118 127.06699887 162.17309939 118.07000068\n",
      " 117.33659905 118.46909984 167.05540112 125.79870028  99.23979999\n",
      "  89.6020995  106.97680105 124.05119993 118.76529975 120.47570029\n",
      "  90.13139968  92.71139952  88.82839927 108.84600003  95.46100089\n",
      " 149.19730063 179.81639888 155.4275014  155.07200102 121.23439981\n",
      " 139.5394012   86.85449892 123.7370003  119.14670118  96.80950109\n",
      " 125.0237012   91.65320072  93.0415996  102.60199876 117.49580057\n",
      "  87.78069888 153.77919906 111.39140063 109.60729866 125.75189982\n",
      " 169.37660226  72.89750005 147.58980069 124.63100104 112.66960065\n",
      " 129.20319806  91.24029903 126.33290001 157.66790032 121.19300052\n",
      " 121.12949829 124.95090035 146.57779966 120.00559845 124.09929926\n",
      " 127.83850125 122.60909971 143.8627991  152.45909902 120.26680061\n",
      " 147.36880148 117.07629902  85.87199882 121.12679981 124.73110026\n",
      " 125.80309977 166.5046969  122.20120005 150.31330028 125.52719954\n",
      "  82.11239831 154.43659851 127.47850031  88.44169826 105.40520003\n",
      " 121.87959967 135.76699731 168.0906961  121.78369995 114.98310056\n",
      "  85.95139985 112.00350008]\n"
     ]
    }
   ],
   "source": [
    "print(test_data_prediction)"
   ]
  },
  {
   "cell_type": "code",
   "execution_count": 23,
   "id": "921795cd",
   "metadata": {},
   "outputs": [
    {
     "name": "stdout",
     "output_type": "stream",
     "text": [
      "R squared :  0.9889294122890006\n"
     ]
    }
   ],
   "source": [
    "# R squared \n",
    "r2_score = metrics.r2_score(Y_test, test_data_prediction)\n",
    "print(\"R squared : \", r2_score)\n",
    "\n",
    "# r2_score (coefficient of determination) regression score function. Best possible score is 1.0"
   ]
  },
  {
   "cell_type": "code",
   "execution_count": 24,
   "id": "7b9ac6f6",
   "metadata": {},
   "outputs": [],
   "source": [
    "Y_test = list(Y_test)"
   ]
  },
  {
   "cell_type": "code",
   "execution_count": 25,
   "id": "2b287888",
   "metadata": {},
   "outputs": [
    {
     "data": {
      "image/png": "[encoded data removed]",
      "text/plain": [
       "<Figure size 432x288 with 1 Axes>"
      ]
     },
     "metadata": {
      "needs_background": "light"
     },
     "output_type": "display_data"
    }
   ],
   "source": [
    "plt.plot(Y_test, color='red', label = 'Actual Value')\n",
    "plt.plot(test_data_prediction, color='green', label='Predicted Value')\n",
    "plt.title('Actual Price vs Predicted Price')\n",
    "plt.xlabel('Number of values')\n",
    "plt.ylabel('GLD Price')\n",
    "plt.legend()\n",
    "plt.show()"
   ]
  }
 ],
 "metadata": {
  "kernelspec": {
   "display_name": "Python 3 (ipykernel)",
   "language": "python",
   "name": "python3"
  },
  "language_info": {
   "codemirror_mode": {
    "name": "ipython",
    "version": 3
   },
   "file_extension": ".py",
   "mimetype": "text/x-python",
   "name": "python",
   "nbconvert_exporter": "python",
   "pygments_lexer": "ipython3",
   "version": "3.9.12"
  }
 },
 "nbformat": 4,
 "nbformat_minor": 5
}
